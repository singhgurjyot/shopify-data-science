{
 "cells": [
  {
   "cell_type": "markdown",
   "id": "ed6a6f41",
   "metadata": {},
   "source": [
    "# Problem 1\n",
    "\n",
    "#### Shoe Dataset"
   ]
  },
  {
   "cell_type": "code",
   "execution_count": 152,
   "id": "34c9de7b",
   "metadata": {},
   "outputs": [],
   "source": [
    "import pandas as pd\n",
    "import numpy as np\n",
    "import matplotlib.pyplot as plt "
   ]
  },
  {
   "cell_type": "markdown",
   "id": "fd4143fe",
   "metadata": {},
   "source": [
    "Read the data"
   ]
  },
  {
   "cell_type": "code",
   "execution_count": 153,
   "id": "e3357d75",
   "metadata": {},
   "outputs": [],
   "source": [
    "df_org = pd.read_excel(\"2019 Winter Data Science Intern Challenge Data Set.xlsx\")"
   ]
  },
  {
   "cell_type": "code",
   "execution_count": 154,
   "id": "a9cf1354",
   "metadata": {},
   "outputs": [
    {
     "data": {
      "text/html": [
       "<div>\n",
       "<style scoped>\n",
       "    .dataframe tbody tr th:only-of-type {\n",
       "        vertical-align: middle;\n",
       "    }\n",
       "\n",
       "    .dataframe tbody tr th {\n",
       "        vertical-align: top;\n",
       "    }\n",
       "\n",
       "    .dataframe thead th {\n",
       "        text-align: right;\n",
       "    }\n",
       "</style>\n",
       "<table border=\"1\" class=\"dataframe\">\n",
       "  <thead>\n",
       "    <tr style=\"text-align: right;\">\n",
       "      <th></th>\n",
       "      <th>order_id</th>\n",
       "      <th>shop_id</th>\n",
       "      <th>user_id</th>\n",
       "      <th>order_amount</th>\n",
       "      <th>total_items</th>\n",
       "      <th>payment_method</th>\n",
       "      <th>created_at</th>\n",
       "    </tr>\n",
       "  </thead>\n",
       "  <tbody>\n",
       "    <tr>\n",
       "      <th>0</th>\n",
       "      <td>1.0</td>\n",
       "      <td>53.0</td>\n",
       "      <td>746.0</td>\n",
       "      <td>224.0</td>\n",
       "      <td>2.0</td>\n",
       "      <td>cash</td>\n",
       "      <td>2017-03-13 12:36:56.190</td>\n",
       "    </tr>\n",
       "    <tr>\n",
       "      <th>1</th>\n",
       "      <td>2.0</td>\n",
       "      <td>92.0</td>\n",
       "      <td>925.0</td>\n",
       "      <td>90.0</td>\n",
       "      <td>1.0</td>\n",
       "      <td>cash</td>\n",
       "      <td>2017-03-03 17:38:51.999</td>\n",
       "    </tr>\n",
       "    <tr>\n",
       "      <th>2</th>\n",
       "      <td>3.0</td>\n",
       "      <td>44.0</td>\n",
       "      <td>861.0</td>\n",
       "      <td>144.0</td>\n",
       "      <td>1.0</td>\n",
       "      <td>cash</td>\n",
       "      <td>2017-03-14 04:23:55.595</td>\n",
       "    </tr>\n",
       "    <tr>\n",
       "      <th>3</th>\n",
       "      <td>4.0</td>\n",
       "      <td>18.0</td>\n",
       "      <td>935.0</td>\n",
       "      <td>156.0</td>\n",
       "      <td>1.0</td>\n",
       "      <td>credit_card</td>\n",
       "      <td>2017-03-26 12:43:36.649</td>\n",
       "    </tr>\n",
       "    <tr>\n",
       "      <th>4</th>\n",
       "      <td>5.0</td>\n",
       "      <td>18.0</td>\n",
       "      <td>883.0</td>\n",
       "      <td>156.0</td>\n",
       "      <td>1.0</td>\n",
       "      <td>credit_card</td>\n",
       "      <td>2017-03-01 04:35:10.773</td>\n",
       "    </tr>\n",
       "  </tbody>\n",
       "</table>\n",
       "</div>"
      ],
      "text/plain": [
       "   order_id  shop_id  user_id  order_amount  total_items payment_method  \\\n",
       "0       1.0     53.0    746.0         224.0          2.0           cash   \n",
       "1       2.0     92.0    925.0          90.0          1.0           cash   \n",
       "2       3.0     44.0    861.0         144.0          1.0           cash   \n",
       "3       4.0     18.0    935.0         156.0          1.0    credit_card   \n",
       "4       5.0     18.0    883.0         156.0          1.0    credit_card   \n",
       "\n",
       "               created_at  \n",
       "0 2017-03-13 12:36:56.190  \n",
       "1 2017-03-03 17:38:51.999  \n",
       "2 2017-03-14 04:23:55.595  \n",
       "3 2017-03-26 12:43:36.649  \n",
       "4 2017-03-01 04:35:10.773  "
      ]
     },
     "execution_count": 154,
     "metadata": {},
     "output_type": "execute_result"
    }
   ],
   "source": [
    "df = df_org\n",
    "df.head()"
   ]
  },
  {
   "cell_type": "code",
   "execution_count": 155,
   "id": "d6025cfd",
   "metadata": {},
   "outputs": [],
   "source": [
    "df['avg_shoe_price'] = df['order_amount']/df['total_items']"
   ]
  },
  {
   "cell_type": "code",
   "execution_count": 156,
   "id": "6eacc592",
   "metadata": {},
   "outputs": [
    {
     "data": {
      "text/html": [
       "<div>\n",
       "<style scoped>\n",
       "    .dataframe tbody tr th:only-of-type {\n",
       "        vertical-align: middle;\n",
       "    }\n",
       "\n",
       "    .dataframe tbody tr th {\n",
       "        vertical-align: top;\n",
       "    }\n",
       "\n",
       "    .dataframe thead th {\n",
       "        text-align: right;\n",
       "    }\n",
       "</style>\n",
       "<table border=\"1\" class=\"dataframe\">\n",
       "  <thead>\n",
       "    <tr style=\"text-align: right;\">\n",
       "      <th></th>\n",
       "      <th>order_id</th>\n",
       "      <th>shop_id</th>\n",
       "      <th>user_id</th>\n",
       "      <th>order_amount</th>\n",
       "      <th>total_items</th>\n",
       "      <th>payment_method</th>\n",
       "      <th>created_at</th>\n",
       "      <th>avg_shoe_price</th>\n",
       "    </tr>\n",
       "  </thead>\n",
       "  <tbody>\n",
       "    <tr>\n",
       "      <th>0</th>\n",
       "      <td>1.0</td>\n",
       "      <td>53.0</td>\n",
       "      <td>746.0</td>\n",
       "      <td>224.0</td>\n",
       "      <td>2.0</td>\n",
       "      <td>cash</td>\n",
       "      <td>2017-03-13 12:36:56.190</td>\n",
       "      <td>112.0</td>\n",
       "    </tr>\n",
       "    <tr>\n",
       "      <th>1</th>\n",
       "      <td>2.0</td>\n",
       "      <td>92.0</td>\n",
       "      <td>925.0</td>\n",
       "      <td>90.0</td>\n",
       "      <td>1.0</td>\n",
       "      <td>cash</td>\n",
       "      <td>2017-03-03 17:38:51.999</td>\n",
       "      <td>90.0</td>\n",
       "    </tr>\n",
       "    <tr>\n",
       "      <th>2</th>\n",
       "      <td>3.0</td>\n",
       "      <td>44.0</td>\n",
       "      <td>861.0</td>\n",
       "      <td>144.0</td>\n",
       "      <td>1.0</td>\n",
       "      <td>cash</td>\n",
       "      <td>2017-03-14 04:23:55.595</td>\n",
       "      <td>144.0</td>\n",
       "    </tr>\n",
       "    <tr>\n",
       "      <th>3</th>\n",
       "      <td>4.0</td>\n",
       "      <td>18.0</td>\n",
       "      <td>935.0</td>\n",
       "      <td>156.0</td>\n",
       "      <td>1.0</td>\n",
       "      <td>credit_card</td>\n",
       "      <td>2017-03-26 12:43:36.649</td>\n",
       "      <td>156.0</td>\n",
       "    </tr>\n",
       "    <tr>\n",
       "      <th>4</th>\n",
       "      <td>5.0</td>\n",
       "      <td>18.0</td>\n",
       "      <td>883.0</td>\n",
       "      <td>156.0</td>\n",
       "      <td>1.0</td>\n",
       "      <td>credit_card</td>\n",
       "      <td>2017-03-01 04:35:10.773</td>\n",
       "      <td>156.0</td>\n",
       "    </tr>\n",
       "  </tbody>\n",
       "</table>\n",
       "</div>"
      ],
      "text/plain": [
       "   order_id  shop_id  user_id  order_amount  total_items payment_method  \\\n",
       "0       1.0     53.0    746.0         224.0          2.0           cash   \n",
       "1       2.0     92.0    925.0          90.0          1.0           cash   \n",
       "2       3.0     44.0    861.0         144.0          1.0           cash   \n",
       "3       4.0     18.0    935.0         156.0          1.0    credit_card   \n",
       "4       5.0     18.0    883.0         156.0          1.0    credit_card   \n",
       "\n",
       "               created_at  avg_shoe_price  \n",
       "0 2017-03-13 12:36:56.190           112.0  \n",
       "1 2017-03-03 17:38:51.999            90.0  \n",
       "2 2017-03-14 04:23:55.595           144.0  \n",
       "3 2017-03-26 12:43:36.649           156.0  \n",
       "4 2017-03-01 04:35:10.773           156.0  "
      ]
     },
     "execution_count": 156,
     "metadata": {},
     "output_type": "execute_result"
    }
   ],
   "source": [
    "df.head(5)"
   ]
  },
  {
   "cell_type": "code",
   "execution_count": 157,
   "id": "fec75688",
   "metadata": {},
   "outputs": [
    {
     "data": {
      "text/plain": [
       "<AxesSubplot:>"
      ]
     },
     "execution_count": 157,
     "metadata": {},
     "output_type": "execute_result"
    },
    {
     "data": {
      "image/png": "[encoded data removed]",
      "text/plain": [
       "<Figure size 432x288 with 1 Axes>"
      ]
     },
     "metadata": {
      "needs_background": "light"
     },
     "output_type": "display_data"
    }
   ],
   "source": [
    "df['avg_shoe_price'].plot(kind = 'box')"
   ]
  },
  {
   "cell_type": "code",
   "execution_count": 158,
   "id": "020ac1f2",
   "metadata": {},
   "outputs": [
    {
     "data": {
      "text/plain": [
       "<AxesSubplot:ylabel='Frequency'>"
      ]
     },
     "execution_count": 158,
     "metadata": {},
     "output_type": "execute_result"
    },
    {
     "data": {
      "image/png": "[encoded data removed]",
      "text/plain": [
       "<Figure size 432x288 with 1 Axes>"
      ]
     },
     "metadata": {
      "needs_background": "light"
     },
     "output_type": "display_data"
    }
   ],
   "source": [
    "df['avg_shoe_price'].plot(kind = 'hist')"
   ]
  },
  {
   "cell_type": "markdown",
   "id": "2197d84e",
   "metadata": {},
   "source": [
    "We can observe that there are 46 values of around \\\\$25,000 for a pair of shoes. Which is around 1% of the total values.\n",
    "\n",
    "In order to make sense of our analysis, we will need to handle the outlier values. Ideally, we would handle the outliers by replacing the values with mean value, or use a regression model to predict a suitable value. But for the sake of simplicity of this problem we will remove the data points with price of one shoe more than \\\\$20,000."
   ]
  },
  {
   "cell_type": "code",
   "execution_count": 159,
   "id": "a177b3af",
   "metadata": {},
   "outputs": [],
   "source": [
    "df = df[df['avg_shoe_price'] < 20000]"
   ]
  },
  {
   "cell_type": "code",
   "execution_count": 160,
   "id": "ea2fdf60",
   "metadata": {},
   "outputs": [
    {
     "data": {
      "text/plain": [
       "<AxesSubplot:>"
      ]
     },
     "execution_count": 160,
     "metadata": {},
     "output_type": "execute_result"
    },
    {
     "data": {
      "image/png": "[encoded data removed]",
      "text/plain": [
       "<Figure size 432x288 with 1 Axes>"
      ]
     },
     "metadata": {
      "needs_background": "light"
     },
     "output_type": "display_data"
    }
   ],
   "source": [
    "df['avg_shoe_price'].plot(kind = 'box')"
   ]
  },
  {
   "cell_type": "code",
   "execution_count": 161,
   "id": "82c766fe",
   "metadata": {},
   "outputs": [
    {
     "data": {
      "text/plain": [
       "<AxesSubplot:ylabel='Frequency'>"
      ]
     },
     "execution_count": 161,
     "metadata": {},
     "output_type": "execute_result"
    },
    {
     "data": {
      "image/png": "[encoded data removed]",
      "text/plain": [
       "<Figure size 432x288 with 1 Axes>"
      ]
     },
     "metadata": {
      "needs_background": "light"
     },
     "output_type": "display_data"
    }
   ],
   "source": [
    "df['avg_shoe_price'].plot(kind = 'hist')"
   ]
  },
  {
   "cell_type": "code",
   "execution_count": 162,
   "id": "263e56ef",
   "metadata": {},
   "outputs": [
    {
     "data": {
      "text/plain": [
       "array([42., 78.])"
      ]
     },
     "execution_count": 162,
     "metadata": {},
     "output_type": "execute_result"
    }
   ],
   "source": [
    "df_org[df_org['avg_shoe_price'] > 300]['shop_id'].unique()"
   ]
  },
  {
   "cell_type": "code",
   "execution_count": 163,
   "id": "1ee4281f",
   "metadata": {},
   "outputs": [
    {
     "data": {
      "text/plain": [
       "order_id          51\n",
       "shop_id           51\n",
       "user_id           51\n",
       "order_amount      51\n",
       "total_items       51\n",
       "payment_method    51\n",
       "created_at        51\n",
       "avg_shoe_price    51\n",
       "dtype: int64"
      ]
     },
     "execution_count": 163,
     "metadata": {},
     "output_type": "execute_result"
    }
   ],
   "source": [
    "df[df['avg_shoe_price'] > 300].count()"
   ]
  },
  {
   "cell_type": "markdown",
   "id": "8f345b8d",
   "metadata": {},
   "source": [
    "We can see there are 51 observations with shoe price of more than $300. Which is around 1% of total values.\n",
    "\n",
    "We can handle these outliers by the same way."
   ]
  },
  {
   "cell_type": "code",
   "execution_count": 164,
   "id": "61118b4a",
   "metadata": {},
   "outputs": [],
   "source": [
    "#mean_value = df[df['avg_shoe_price'] < 300]['avg_shoe_price'].mean()\n",
    "#for index, row in df.iterrows():\n",
    "#    if row['avg_shoe_price'] > 300:\n",
    "#        df.iloc[index, 3] = row['total_items'] * mean_value\n",
    "#        df.iloc[index, 7] = mean_value"
   ]
  },
  {
   "cell_type": "code",
   "execution_count": 165,
   "id": "e9ad7fc0",
   "metadata": {},
   "outputs": [],
   "source": [
    "df = df[df['avg_shoe_price'] < 300]"
   ]
  },
  {
   "cell_type": "code",
   "execution_count": 166,
   "id": "732712f4",
   "metadata": {},
   "outputs": [
    {
     "data": {
      "text/plain": [
       "<AxesSubplot:>"
      ]
     },
     "execution_count": 166,
     "metadata": {},
     "output_type": "execute_result"
    },
    {
     "data": {
      "image/png": "[encoded data removed]",
      "text/plain": [
       "<Figure size 432x288 with 1 Axes>"
      ]
     },
     "metadata": {
      "needs_background": "light"
     },
     "output_type": "display_data"
    }
   ],
   "source": [
    "df['avg_shoe_price'].plot(kind = 'box')"
   ]
  },
  {
   "cell_type": "code",
   "execution_count": 167,
   "id": "541765c1",
   "metadata": {},
   "outputs": [
    {
     "data": {
      "text/plain": [
       "<AxesSubplot:ylabel='Frequency'>"
      ]
     },
     "execution_count": 167,
     "metadata": {},
     "output_type": "execute_result"
    },
    {
     "data": {
      "image/png": "[encoded data removed]",
      "text/plain": [
       "<Figure size 432x288 with 1 Axes>"
      ]
     },
     "metadata": {
      "needs_background": "light"
     },
     "output_type": "display_data"
    }
   ],
   "source": [
    "df['avg_shoe_price'].plot(kind = 'hist')"
   ]
  },
  {
   "cell_type": "code",
   "execution_count": 168,
   "id": "6757f52d",
   "metadata": {},
   "outputs": [
    {
     "data": {
      "text/plain": [
       "300.1558229655313"
      ]
     },
     "execution_count": 168,
     "metadata": {},
     "output_type": "execute_result"
    }
   ],
   "source": [
    "df['order_amount'].mean()"
   ]
  },
  {
   "cell_type": "code",
   "execution_count": 169,
   "id": "3e644922",
   "metadata": {},
   "outputs": [
    {
     "data": {
      "text/plain": [
       "1.9957169080155006"
      ]
     },
     "execution_count": 169,
     "metadata": {},
     "output_type": "execute_result"
    }
   ],
   "source": [
    "df['total_items'].mean()"
   ]
  },
  {
   "cell_type": "markdown",
   "id": "8d9bfbc5",
   "metadata": {},
   "source": [
    "After making some adjustments in the evaluation of AOV, we can see that the corrected AOV is found to be \\\\$300. \n",
    "\n",
    "Which makes sense considering the metric for average value of a shoe being around \\\\$150 after removing the outliers with the values of \\\\$350 and \\\\$25,000"
   ]
  },
  {
   "cell_type": "markdown",
   "id": "b8715b3a",
   "metadata": {},
   "source": [
    "# Problem 2\n",
    "\n",
    "#### SQL Dataset"
   ]
  },
  {
   "cell_type": "markdown",
   "id": "3e022d07",
   "metadata": {},
   "source": [
    "1. SQL Query: <code>SELECT COUNT(*) FROM [Orders] O JOIN [Shippers] S ON O.ShipperID = S.ShipperID WHERE ShipperName = \"Speedy Express\";</code>\n",
    "\n",
    "<b>Output:</b> 54\n",
    "\n",
    "2. SQL Query: <code>SELECT LastName FROM Employees E JOIN (SELECT EmployeeID, COUNT(EmployeeID) AS NUM_ORDERS FROM Orders GROUP BY EmployeeID ORDER BY NUM_ORDERS DESC LIMIT 1) R ON E.EmployeeID = R.EmployeeID;</code>\n",
    "\n",
    "<b>Output:</b> Peacock\n",
    "\n",
    "3. SQL Query: <code>SELECT P.ProductID, P.ProductName FROM Products P JOIN (SELECT OD.ProductID, COUNT(OD.ProductID) AS NUM_PRODUCT FROM [Orders] O JOIN (SELECT * FROM Customers WHERE Country = \"Germany\") C ON C.CustomerID = O.CustomerID JOIN OrderDetails OD ON O.OrderID = OD.OrderID GROUP BY OD.ProductID ORDER BY NUM_PRODUCT DESC LIMIT 1) TEMP ON P.ProductID = TEMP.ProductID</code>\n",
    "\n",
    "<b>Output:</b> 31, Gorgonzola Telino"
   ]
  },
  {
   "cell_type": "code",
   "execution_count": null,
   "id": "76ed2265",
   "metadata": {},
   "outputs": [],
   "source": []
  }
 ],
 "metadata": {
  "kernelspec": {
   "display_name": "Python 3 (ipykernel)",
   "language": "python",
   "name": "python3"
  },
  "language_info": {
   "codemirror_mode": {
    "name": "ipython",
    "version": 3
   },
   "file_extension": ".py",
   "mimetype": "text/x-python",
   "name": "python",
   "nbconvert_exporter": "python",
   "pygments_lexer": "ipython3",
   "version": "3.8.11"
  }
 },
 "nbformat": 4,
 "nbformat_minor": 5
}
